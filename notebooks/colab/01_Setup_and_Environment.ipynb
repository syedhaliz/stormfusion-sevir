{
 "cells": [
  {
   "cell_type": "markdown",
   "metadata": {},
   "source": [
    "# 01: Setup and Environment Check\n",
    "\n",
    "**Purpose:** Verify Colab environment, GPU, and install dependencies\n",
    "\n",
    "**What this does:**\n",
    "- Mount Google Drive\n",
    "- Check GPU availability and specs\n",
    "- Install all required packages\n",
    "- Clone/update repository\n",
    "- Verify installations\n",
    "\n",
    "**What this does NOT do:**\n",
    "- Load any data\n",
    "- Create any models\n",
    "- Run any training\n",
    "\n",
    "**Expected time:** 5-10 minutes\n",
    "\n",
    "---"
   ]
  },
  {
   "cell_type": "markdown",
   "metadata": {},
   "source": [
    "## Step 1: Mount Google Drive"
   ]
  },
  {
   "cell_type": "code",
   "execution_count": null,
   "metadata": {},
   "outputs": [],
   "source": [
    "from google.colab import drive\n",
    "import os\n",
    "from pathlib import Path\n",
    "\n",
    "drive.mount('/content/drive')\n",
    "\n",
    "# Set your data root path\n",
    "DRIVE_ROOT = \"/content/drive/MyDrive/SEVIR_Data\"\n",
    "\n",
    "# Verify it exists\n",
    "if Path(DRIVE_ROOT).exists():\n",
    "    print(f\"✅ Drive mounted: {DRIVE_ROOT}\")\n",
    "    print(f\"   Contents: {os.listdir(DRIVE_ROOT)}\")\n",
    "else:\n",
    "    print(f\"❌ Directory not found: {DRIVE_ROOT}\")\n",
    "    print(f\"   Please create this directory in your Google Drive\")"
   ]
  },
  {
   "cell_type": "markdown",
   "metadata": {},
   "source": [
    "## Step 2: Check GPU"
   ]
  },
  {
   "cell_type": "code",
   "execution_count": null,
   "metadata": {},
   "outputs": [],
   "source": [
    "!nvidia-smi"
   ]
  },
  {
   "cell_type": "code",
   "execution_count": null,
   "metadata": {},
   "outputs": [],
   "source": [
    "import torch\n",
    "\n",
    "print(\"=\"*70)\n",
    "print(\"ENVIRONMENT CHECK\")\n",
    "print(\"=\"*70)\n",
    "print(f\"PyTorch version: {torch.__version__}\")\n",
    "print(f\"CUDA available: {torch.cuda.is_available()}\")\n",
    "\n",
    "if torch.cuda.is_available():\n",
    "    print(f\"CUDA version: {torch.version.cuda}\")\n",
    "    print(f\"GPU: {torch.cuda.get_device_name(0)}\")\n",
    "    print(f\"VRAM: {torch.cuda.get_device_properties(0).total_memory / 1e9:.1f} GB\")\n",
    "    print(\"\\n✅ GPU ready for training\")\n",
    "else:\n",
    "    print(\"\\n⚠️  No GPU detected - training will be very slow\")\n",
    "    print(\"   Go to Runtime → Change runtime type → Select GPU\")"
   ]
  },
  {
   "cell_type": "markdown",
   "metadata": {},
   "source": [
    "## Step 3: Install Dependencies\n",
    "\n",
    "This will take 5-10 minutes on first run."
   ]
  },
  {
   "cell_type": "code",
   "execution_count": null,
   "metadata": {},
   "outputs": [],
   "source": [
    "print(\"Installing dependencies (this takes 5-10 min on first run)...\")\n",
    "print(\"Subsequent runs are faster (~1 min) due to caching\\n\")\n",
    "\n",
    "# Install PyTorch Geometric\n",
    "!pip install -q torch-geometric\n",
    "\n",
    "# Install other dependencies\n",
    "!pip install -q h5py pandas tqdm matplotlib lpips scikit-image scipy\n",
    "\n",
    "print(\"\\n✅ All packages installed\")"
   ]
  },
  {
   "cell_type": "markdown",
   "metadata": {},
   "source": [
    "## Step 4: Verify Installations"
   ]
  },
  {
   "cell_type": "code",
   "execution_count": null,
   "metadata": {},
   "outputs": [],
   "source": [
    "# Test all imports\n",
    "print(\"Testing package imports...\\n\")\n",
    "\n",
    "packages = [\n",
    "    ('torch', 'PyTorch'),\n",
    "    ('torch_geometric', 'PyTorch Geometric'),\n",
    "    ('h5py', 'HDF5'),\n",
    "    ('pandas', 'Pandas'),\n",
    "    ('numpy', 'NumPy'),\n",
    "    ('tqdm', 'TQDM'),\n",
    "    ('matplotlib', 'Matplotlib'),\n",
    "    ('lpips', 'LPIPS'),\n",
    "    ('skimage', 'scikit-image'),\n",
    "    ('scipy', 'SciPy')\n",
    "]\n",
    "\n",
    "all_good = True\n",
    "for module, name in packages:\n",
    "    try:\n",
    "        __import__(module)\n",
    "        print(f\"✅ {name}\")\n",
    "    except ImportError as e:\n",
    "        print(f\"❌ {name} - {e}\")\n",
    "        all_good = False\n",
    "\n",
    "print(\"\\n\" + \"=\"*70)\n",
    "if all_good:\n",
    "    print(\"✅ ALL PACKAGES INSTALLED CORRECTLY\")\n",
    "else:\n",
    "    print(\"⚠️  Some packages failed - re-run install cell\")\n",
    "print(\"=\"*70)"
   ]
  },
  {
   "cell_type": "markdown",
   "metadata": {},
   "source": [
    "## Step 5: Clone/Update Repository"
   ]
  },
  {
   "cell_type": "code",
   "execution_count": null,
   "metadata": {},
   "outputs": [],
   "source": [
    "import sys\n",
    "\n",
    "REPO_PATH = '/content/stormfusion-sevir'\n",
    "\n",
    "if not os.path.exists(REPO_PATH):\n",
    "    print(\"Cloning repository...\")\n",
    "    !git clone https://github.com/syedhaliz/stormfusion-sevir.git {REPO_PATH}\n",
    "    print(\"✅ Repository cloned\")\n",
    "else:\n",
    "    print(\"Repository exists, pulling latest changes...\")\n",
    "    !cd {REPO_PATH} && git pull\n",
    "    print(\"✅ Repository updated\")\n",
    "\n",
    "# Add to Python path\n",
    "if REPO_PATH not in sys.path:\n",
    "    sys.path.insert(0, REPO_PATH)\n",
    "    print(f\"✅ Added {REPO_PATH} to Python path\")"
   ]
  },
  {
   "cell_type": "markdown",
   "metadata": {},
   "source": [
    "## Step 6: Verify Repository Structure"
   ]
  },
  {
   "cell_type": "code",
   "execution_count": null,
   "metadata": {},
   "outputs": [],
   "source": [
    "# Check that key files exist\n",
    "print(\"Verifying repository structure...\\n\")\n",
    "\n",
    "key_paths = [\n",
    "    'stormfusion/models/sgt/__init__.py',\n",
    "    'stormfusion/models/sgt/model.py',\n",
    "    'stormfusion/models/sgt/encoder.py',\n",
    "    'stormfusion/models/sgt/detector.py',\n",
    "    'stormfusion/models/sgt/gnn.py',\n",
    "    'stormfusion/models/sgt/transformer.py',\n",
    "    'stormfusion/models/sgt/decoder.py',\n",
    "    'stormfusion/data/sevir_multimodal.py',\n",
    "    'docs/PAPER1_ARCHITECTURE.md',\n",
    "]\n",
    "\n",
    "all_exist = True\n",
    "for path in key_paths:\n",
    "    full_path = Path(REPO_PATH) / path\n",
    "    if full_path.exists():\n",
    "        print(f\"✅ {path}\")\n",
    "    else:\n",
    "        print(f\"❌ {path} - MISSING\")\n",
    "        all_exist = False\n",
    "\n",
    "print(\"\\n\" + \"=\"*70)\n",
    "if all_exist:\n",
    "    print(\"✅ REPOSITORY STRUCTURE CORRECT\")\n",
    "else:\n",
    "    print(\"⚠️  Some files missing - repository may be incomplete\")\n",
    "print(\"=\"*70)"
   ]
  },
  {
   "cell_type": "markdown",
   "metadata": {},
   "source": [
    "## Step 7: Test Module Imports"
   ]
  },
  {
   "cell_type": "code",
   "execution_count": null,
   "metadata": {},
   "outputs": [],
   "source": [
    "# Try importing our modules\n",
    "print(\"Testing stormfusion module imports...\\n\")\n",
    "\n",
    "try:\n",
    "    from stormfusion.data.sevir_multimodal import SEVIRMultiModalDataset\n",
    "    print(\"✅ Data module imported\")\nexcept Exception as e:\n",
    "    print(f\"❌ Data module failed: {e}\")\n",
    "\n",
    "try:\n",
    "    from stormfusion.models.sgt import create_sgt_model\n",
    "    print(\"✅ SGT model imported\")\n",
    "except Exception as e:\n",
    "    print(f\"❌ SGT model failed: {e}\")\n",
    "\n",
    "print(\"\\n\" + \"=\"*70)\n",
    "print(\"✅ ENVIRONMENT SETUP COMPLETE\")\n",
    "print(\"=\"*70)\n",
    "print(\"\\nNext steps:\")\n",
    "print(\"1. Run 02_Data_Verification.ipynb to check your SEVIR data\")\n",
    "print(\"2. Download data if needed\")\n",
    "print(\"3. Proceed with module testing\")"
   ]
  },
  {
   "cell_type": "markdown",
   "metadata": {},
   "source": [
    "---\n",
    "\n",
    "## Summary\n",
    "\n",
    "If all cells above show ✅, you're ready to proceed.\n",
    "\n",
    "**What we verified:**\n",
    "- Google Drive mounted\n",
    "- GPU available\n",
    "- All packages installed\n",
    "- Repository cloned/updated\n",
    "- Module imports work\n",
    "\n",
    "**Next notebook:** `02_Data_Verification.ipynb`"
   ]
  }
 ],
 "metadata": {
  "accelerator": "GPU",
  "colab": {
   "gpuType": "T4",
   "provenance": []
  },
  "kernelspec": {
   "display_name": "Python 3",
   "name": "python3"
  }
 },
 "nbformat": 4,
 "nbformat_minor": 0
}
