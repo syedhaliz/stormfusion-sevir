{
 "cells": [
  {
   "cell_type": "markdown",
   "metadata": {},
   "source": [
    "# 01 Environment Check\n",
    "\n",
    "**Stage 0: Setup**\n",
    "\n",
    "This notebook validates the StormFusion-SEVIR environment is correctly set up.\n",
    "\n",
    "## Checks:\n",
    "1. Import all core packages\n",
    "2. Verify PyTorch + GPU availability\n",
    "3. Test UNet2D forward pass\n",
    "4. Test ConvLSTM forward pass\n",
    "5. Test data loading stubs\n",
    "6. Test metric calculations"
   ]
  },
  {
   "cell_type": "markdown",
   "metadata": {},
   "source": [
    "## 1. Import Core Packages"
   ]
  },
  {
   "cell_type": "code",
   "execution_count": null,
   "metadata": {},
   "outputs": [],
   "source": [
    "import sys\n",
    "import torch\n",
    "import numpy as np\n",
    "import matplotlib.pyplot as plt\n",
    "from pathlib import Path\n",
    "\n",
    "print(f\"Python version: {sys.version}\")\n",
    "print(f\"PyTorch version: {torch.__version__}\")\n",
    "print(f\"NumPy version: {np.__version__}\")"
   ]
  },
  {
   "cell_type": "markdown",
   "metadata": {},
   "source": [
    "## 2. Check PyTorch Device"
   ]
  },
  {
   "cell_type": "code",
   "execution_count": null,
   "metadata": {},
   "outputs": [],
   "source": [
    "device = torch.device(\"cuda\" if torch.cuda.is_available() else \"cpu\")\n",
    "print(f\"Device: {device}\")\n",
    "\n",
    "if torch.cuda.is_available():\n",
    "    print(f\"  GPU: {torch.cuda.get_device_name(0)}\")\n",
    "    print(f\"  Memory: {torch.cuda.get_device_properties(0).total_memory / 1e9:.1f} GB\")\n",
    "elif torch.backends.mps.is_available():\n",
    "    print(\"  Apple Silicon MPS available\")\n",
    "    device = torch.device(\"mps\")\n",
    "else:\n",
    "    print(\"  Running on CPU\")"
   ]
  },
  {
   "cell_type": "markdown",
   "metadata": {},
   "source": [
    "## 3. Test UNet2D Forward Pass"
   ]
  },
  {
   "cell_type": "code",
   "execution_count": null,
   "metadata": {},
   "outputs": [],
   "source": [
    "from stormfusion.models.unet2d import UNet2D\n",
    "\n",
    "# Create model\n",
    "model = UNet2D(in_channels=12, out_channels=1).to(device)\n",
    "print(f\"UNet2D created with {sum(p.numel() for p in model.parameters()):,} parameters\")\n",
    "\n",
    "# Test forward pass\n",
    "batch_size = 2\n",
    "t_in = 12\n",
    "h, w = 128, 128  # Small resolution for testing\n",
    "\n",
    "x = torch.randn(batch_size, t_in, h, w).to(device)\n",
    "print(f\"Input shape: {x.shape}\")\n",
    "\n",
    "with torch.no_grad():\n",
    "    y = model(x)\n",
    "    \n",
    "print(f\"Output shape: {y.shape}\")\n",
    "print(f\"✓ UNet2D forward pass successful!\")\n",
    "\n",
    "# Visualize one sample\n",
    "fig, axes = plt.subplots(1, 2, figsize=(10, 4))\n",
    "axes[0].imshow(x[0, -1].cpu().numpy(), cmap='turbo')\n",
    "axes[0].set_title('Last Input Frame (t=55 min)')\n",
    "axes[0].axis('off')\n",
    "\n",
    "axes[1].imshow(y[0, 0].cpu().numpy(), cmap='turbo')\n",
    "axes[1].set_title('Prediction (t=60 min)')\n",
    "axes[1].axis('off')\n",
    "\n",
    "plt.suptitle('UNet2D Dummy Forward Pass', fontweight='bold')\n",
    "plt.tight_layout()\n",
    "plt.show()"
   ]
  },
  {
   "cell_type": "markdown",
   "metadata": {},
   "source": [
    "## 4. Test ConvLSTM Forward Pass"
   ]
  },
  {
   "cell_type": "code",
   "execution_count": null,
   "metadata": {},
   "outputs": [],
   "source": [
    "from stormfusion.models.convlstm import ConvLSTM\n",
    "\n",
    "# Create model\n",
    "model_lstm = ConvLSTM(in_channels=1, hidden_dim=64, kernel_size=3, num_layers=2).to(device)\n",
    "print(f\"ConvLSTM created with {sum(p.numel() for p in model_lstm.parameters()):,} parameters\")\n",
    "\n",
    "# Test forward pass\n",
    "x_seq = torch.randn(batch_size, t_in, 1, h, w).to(device)\n",
    "print(f\"Input shape: {x_seq.shape}\")\n",
    "\n",
    "with torch.no_grad():\n",
    "    y_seq = model_lstm(x_seq)\n",
    "    \n",
    "print(f\"Output shape: {y_seq.shape}\")\n",
    "print(f\"✓ ConvLSTM forward pass successful!\")"
   ]
  },
  {
   "cell_type": "markdown",
   "metadata": {},
   "source": [
    "## 5. Test Data Loading Stub"
   ]
  },
  {
   "cell_type": "code",
   "execution_count": null,
   "metadata": {},
   "outputs": [],
   "source": [
    "from stormfusion.data.sevir_dataset import build_tiny_index\n",
    "\n",
    "# Check if data directory exists\n",
    "data_dir = Path(\"../data\")\n",
    "if not data_dir.exists():\n",
    "    print(f\"⚠ Data directory not found: {data_dir}\")\n",
    "    print(\"  This is expected for Stage 0 - data download happens in Stage 1\")\n",
    "else:\n",
    "    print(f\"✓ Data directory found: {data_dir}\")\n",
    "\n",
    "# Test stub function\n",
    "try:\n",
    "    result = build_tiny_index(None, None, None)\n",
    "    print(f\"build_tiny_index stub returns: {result}\")\n",
    "    print(\"✓ Data loading stub functional\")\n",
    "except NotImplementedError as e:\n",
    "    print(f\"✓ build_tiny_index raises NotImplementedError as expected\")\n",
    "    print(f\"  (Will be implemented in Stage 1)\")"
   ]
  },
  {
   "cell_type": "markdown",
   "metadata": {},
   "source": [
    "## 6. Test Metric Calculations"
   ]
  },
  {
   "cell_type": "code",
   "execution_count": null,
   "metadata": {},
   "outputs": [],
   "source": [
    "from stormfusion.training.forecast_metrics import scores\n",
    "\n",
    "# Create dummy predictions and targets\n",
    "pred = torch.rand(batch_size, 1, h, w)\n",
    "target = torch.rand(batch_size, 1, h, w)\n",
    "\n",
    "# Test metrics\n",
    "thresholds = [0.1, 0.5]\n",
    "metrics = scores(pred, target, thresholds)\n",
    "\n",
    "print(\"Forecast Metrics (dummy data):\")\n",
    "for thr in thresholds:\n",
    "    print(f\"  Threshold {thr}:\")\n",
    "    for metric_name in ['pod', 'sucr', 'csi', 'bias']:\n",
    "        key = f\"{metric_name}_{thr}\"\n",
    "        if key in metrics:\n",
    "            print(f\"    {metric_name.upper()}: {metrics[key]:.3f}\")\n",
    "\n",
    "print(\"\\n✓ Metric calculation successful!\")"
   ]
  },
  {
   "cell_type": "markdown",
   "metadata": {},
   "source": [
    "## Summary\n",
    "\n",
    "✅ **Stage 0 Complete!**\n",
    "\n",
    "All core components are functional:\n",
    "- Python environment set up\n",
    "- PyTorch installed and working\n",
    "- UNet2D model forward pass works\n",
    "- ConvLSTM model forward pass works\n",
    "- Data loading stubs in place\n",
    "- Metrics calculation works\n",
    "\n",
    "**Next Steps:**\n",
    "- Stage 1: Download tiny SEVIR dataset (8 train / 4 val events)\n",
    "- Implement `build_tiny_index` function\n",
    "- Create `SevirNowcastDataset` class\n",
    "- Test data loading pipeline"
   ]
  },
  {
   "cell_type": "code",
   "execution_count": null,
   "metadata": {},
   "outputs": [],
   "source": [
    "# Clean up\n",
    "import gc\n",
    "del model, model_lstm, x, y, x_seq, y_seq\n",
    "if torch.cuda.is_available():\n",
    "    torch.cuda.empty_cache()\n",
    "gc.collect()\n",
    "\n",
    "print(\"✓ Environment check complete!\")"
   ]
  }
 ],
 "metadata": {
  "kernelspec": {
   "display_name": "Python 3",
   "language": "python",
   "name": "python3"
  },
  "language_info": {
   "codemirror_mode": {
    "name": "ipython",
    "version": 3
   },
   "file_extension": ".py",
   "mimetype": "text/x-python",
   "name": "python",
   "nbconvert_exporter": "python",
   "pygments_lexer": "ipython3",
   "version": "3.12.4"
  }
 },
 "nbformat": 4,
 "nbformat_minor": 4
}
